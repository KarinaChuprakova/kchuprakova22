{
 "cells": [
  {
   "cell_type": "code",
   "execution_count": null,
   "metadata": {},
   "outputs": [],
   "source": [
    "import math\n",
    "import matplotlib.pyplot as plt\n",
    "import numpy as np\n",
    "\n",
    "ITERATIONS = 20\n",
    "\n",
    "def my_asin(x):\n",
    "    x_pow = x\n",
    "    multiplier = 1\n",
    "    partial_sum = x\n",
    "    for n in range(1, ITERATIONS):\n",
    "        x_pow = x**2  \n",
    "        multiplier *= 2*n*(2*n-1)**2 / 4 / n**2 / (2*n + 1) \n",
    "        partial_sum += x_pow * multiplier\n",
    "        plt.plot (n, partial_sum)\n",
    "    return partial_sum\n",
    "\n",
    "print (math.asin(0.4))\n",
    "print (my_asin(0.4))\n",
    "\n",
    "from IPython.display import set_matplotlib_formats\n",
    "set_matplotlib_formats('pdf', 'svg')\n",
    "\n",
    "vs = np.vectorize(my_asin)\n",
    "print(my_asin, vs)\n",
    "\n",
    "angles = np.r_[-1:1:0.001]\n",
    "plt.plot(angles, np.arcsin(angles))\n",
    "plt.plot(angles, vs(angles))\n",
    "\n",
    "ax = plt.axes()\n",
    "ax.set_xticks(np.arange(-1, 1 + 0.1, 1))\n",
    "ax.set_yticks(np.arange(-1, 2, 1))\n",
    "ax.set_xticks(np.arange(-1, 2, 0.5), minor=True)\n",
    "ax.set_yticks(np.arange(-1, 2, 0.5), minor=True)\n",
    "ax.grid(which='minor', alpha=0.5)\n",
    "ax.grid(which='major', alpha=0.5, color='black')\n",
    "\n",
    "plt.show()"
   ]
  }
 ],
 "metadata": {
  "kernelspec": {
   "display_name": "Python 3",
   "language": "python",
   "name": "python3"
  },
  "language_info": {
   "codemirror_mode": {
    "name": "ipython",
    "version": 3
   },
   "file_extension": ".py",
   "mimetype": "text/x-python",
   "name": "python",
   "nbconvert_exporter": "python",
   "pygments_lexer": "ipython3",
   "version": "3.8.6"
  }
 },
 "nbformat": 4,
 "nbformat_minor": 4
}
