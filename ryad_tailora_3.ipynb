import math

ITERATIONS = 20

def my_sinh(x):
    x_pow = x
    multiplier = 1
    partial_sum = x
    for n in range(1, ITERATIONS):
        x_pow *= x**2  
        multiplier *= 1 / (2*n) / (2*n + 1)  
        partial_sum += x_pow * multiplier
    
    return partial_sum

print(math.sinh(0.6))
print(my_sinh(0.6))

from matplotlib import pyplot as plt
fig = plt.figure
plt.axis([-5, 5, -40, 40])

from numpy import arange
m = arange(-3.0, 3.0, 0.01)

from numpy import sinh, pi
plt.plot (m, sinh(pi*m))

grid1 = plt.grid(True)   

plt.show()
