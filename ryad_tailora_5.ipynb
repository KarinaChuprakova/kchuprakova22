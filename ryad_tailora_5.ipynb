{
 "cells": [
  {
   "cell_type": "code",
   "execution_count": null,
   "metadata": {},
   "outputs": [],
   "source": [
    "import math\n",
    "import matplotlib.pyplot as plt\n",
    "\n",
    "ITERATIONS = 20\n",
    "\n",
    "def my_sinh(x):\n",
    "    x_pow = 1",
    "    multiplier = 1",
    "    partial_sum = x",
    "    for n in range(1, ITERATIONS):\n",
    "        x_pow = x**2  \n",
    "        multiplier *= 1 / (2*n) / (2*n + 1) \n",
    "        partial_sum += x_pow * multiplier\n",
    "        plt.plot (n, partial_sum)\n",
    "    return partial_sum\n",
    "\n",
    "print (math.sinh(0.6))\n",
    "print (my_sinh(0.6))\n",
    "\n",
    "from matplotlib import pyplot as plt\n",
    "fig = plt.figure\n",
    "plt.axis([-5, 5, -40, 40]) \n",
    "\n",
    "from numpy import arange\n",
    "m = arange(-3.0, 3.0, 0.01) \n",
    "\n",
    "from numpy import sinh, pi\n",
    "plt.plot (m, sinh(pi*m))\n",
    "\n",
    "grid1 = plt.grid(True)\n",
    "\n",
    "plt.show()"
   ]
  }
 ],
 "metadata": {
  "kernelspec": {
   "display_name": "Python 3",
   "language": "python",
   "name": "python3"
  },
  "language_info": {
   "codemirror_mode": {
    "name": "ipython",
    "version": 3
   },
   "file_extension": ".py",
   "mimetype": "text/x-python",
   "name": "python",
   "nbconvert_exporter": "python",
   "pygments_lexer": "ipython3",
   "version": "3.8.6"
  }
 },
 "nbformat": 4,
 "nbformat_minor": 4
}
